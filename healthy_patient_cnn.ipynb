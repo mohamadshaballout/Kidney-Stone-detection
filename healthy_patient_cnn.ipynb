{
 "cells": [
  {
   "cell_type": "raw",
   "metadata": {},
   "source": [
    "Bu çalışmada oversampling ve undersampling uygulanarak CNN modeli train ve teste tabi tutulmuştur."
   ]
  },
  {
   "cell_type": "code",
   "execution_count": 5,
   "metadata": {},
   "outputs": [],
   "source": [
    "# Undersample and plot imbalanced dataset with the Edited Nearest Neighbor rule\n",
    "from collections import Counter\n",
    "\n",
    "\n",
    "from sklearn.datasets import make_classification\n",
    "from imblearn.under_sampling import RandomUnderSampler, TomekLinks, OneSidedSelection,EditedNearestNeighbours\n",
    "from imblearn.over_sampling import RandomOverSampler, SMOTE\n",
    "from imblearn.combine import SMOTETomek\n",
    "\n",
    "from matplotlib import pyplot\n",
    "from numpy import where\n",
    "import numpy as np\n",
    "from numpy import mean\n",
    "import pandas as pd\n",
    "import itertools\n",
    "import matplotlib.pyplot as plt\n",
    "\n",
    "from tensorflow.keras import Sequential\n",
    "from keras.wrappers.scikit_learn import KerasClassifier\n",
    "from sklearn.model_selection import cross_val_score, StratifiedKFold, train_test_split\n",
    "from sklearn import preprocessing\n",
    "from sklearn.metrics import accuracy_score, precision_score, recall_score, f1_score, confusion_matrix\n",
    "\n",
    "\n",
    "from keras.layers import Dense, Dropout, Activation\n",
    "from keras.utils import np_utils\n",
    "\n",
    "from plot_functions import AccLossPlotter"
   ]
  },
  {
   "cell_type": "code",
   "execution_count": 6,
   "metadata": {},
   "outputs": [],
   "source": [
    "# load dataset\n",
    "dataframe = pd.read_csv(\"KidneyStoneDataset.csv\", header=None) # return numpy array\n",
    "dataset = dataframe.values\n"
   ]
  },
  {
   "cell_type": "code",
   "execution_count": 7,
   "metadata": {},
   "outputs": [
    {
     "name": "stdout",
     "output_type": "stream",
     "text": [
      "[[0.         0.00013497 0.00647841 ... 0.00593854 0.         0.        ]\n",
      " [0.         0.00027323 0.00683076 ... 0.00560123 0.         0.00013662]\n",
      " [0.         0.00027786 0.00736317 ... 0.00444569 0.         0.00013893]\n",
      " ...\n",
      " [0.         0.00055658 0.00041744 ... 0.         0.         0.        ]\n",
      " [0.00040583 0.00067639 0.0017586  ... 0.         0.         0.        ]\n",
      " [0.00079405 0.00052937 0.00277919 ... 0.         0.         0.        ]]\n",
      "[1 1 1 ... 1 1 1]\n",
      "(1783, 5120)\n"
     ]
    }
   ],
   "source": [
    "\n",
    "# split into input (X) and output (Y) variables\n",
    "X = dataset[:,0:5120]\n",
    "Y = dataset[:,5120]\n",
    "#verileri normalize etmesem de sonuç değişmiyor\n",
    "normalized_X = preprocessing.normalize(X) \n",
    "print(normalized_X)\n",
    "print(Y)\n",
    "print(X.shape)"
   ]
  },
  {
   "cell_type": "code",
   "execution_count": 8,
   "metadata": {},
   "outputs": [],
   "source": [
    "X = np.array(normalized_X) \n",
    "y = np.array(Y)\n",
    "\n"
   ]
  },
  {
   "cell_type": "code",
   "execution_count": 9,
   "metadata": {},
   "outputs": [],
   "source": [
    "model=Sequential()\n",
    "model.add(Dense(32,input_dim=5120))\n",
    "model.add(Dropout(0.2))\n",
    "model.add(Activation('relu'))\n",
    "model.add(Dense(32))\n",
    "model.add(Dropout(0.2))\n",
    "\n",
    "model.add(Activation('relu'))\n",
    "model.add(Dense(64))\n",
    "model.add(Dropout(0.2))\n",
    "model.add(Activation('relu'))\n",
    "model.add(Dense(128))\n",
    "model.add(Dropout(0.2))\n",
    "model.add(Dense(1))\n",
    "model.add(Activation('softmax'))\n",
    "\n",
    "class_names = ['Healthy', 'Patient']\n",
    "\n",
    "\n",
    "model.compile(optimizer='adam',\n",
    "              loss='categorical_crossentropy',\n",
    "              metrics=['acc'])"
   ]
  },
  {
   "cell_type": "code",
   "execution_count": 28,
   "metadata": {},
   "outputs": [],
   "source": [
    "def plot_confusion_matrix(cm, names,normalize=False, title='Confusion matrix', cmap=plt.cm.Blues):\n",
    "    plt.imshow(cm, interpolation='nearest', cmap=cmap)\n",
    "    plt.title(title)\n",
    "    plt.colorbar()\n",
    "    tick_marks = np.arange(len(names))\n",
    "    plt.xticks(tick_marks, names, rotation=45)\n",
    "    plt.yticks(tick_marks, names)\n",
    "    \n",
    "    fmt = '.2f' if normalize else 'd'\n",
    "    thresh = cm.max() / 2.\n",
    "    for i, j in itertools.product(range(cm.shape[0]), range(cm.shape[1])):\n",
    "        plt.text(j, i, format(cm[i, j], fmt),\n",
    "                 horizontalalignment=\"center\",\n",
    "                 color=\"white\" if cm[i, j] > thresh else \"black\")\n",
    "    \n",
    "    plt.tight_layout()\n",
    "    plt.ylabel('True label')\n",
    "    plt.xlabel('Predicted label')"
   ]
  },
  {
   "cell_type": "code",
   "execution_count": 11,
   "metadata": {},
   "outputs": [
    {
     "name": "stdout",
     "output_type": "stream",
     "text": [
      "Train size:  1426\n",
      "Test size:  357\n"
     ]
    }
   ],
   "source": [
    "trainX, testX, trainy, testy = train_test_split(X, y, test_size=0.2, random_state=None)\n",
    "print('Train size:  %d' % len(trainX))\n",
    "print('Test size:  %d'% len(testX))"
   ]
  },
  {
   "cell_type": "code",
   "execution_count": 31,
   "metadata": {},
   "outputs": [
    {
     "name": "stdout",
     "output_type": "stream",
     "text": [
      "train (%) 0.4342105263157895 \t test(%): 0.45454545454545453\n",
      "acc: 45.45%\n",
      "train (%) 0.43382997370727433 \t test(%): 0.45614035087719296\n",
      "acc: 45.61%\n",
      "train (%) 0.43207712532865905 \t test(%): 0.4631578947368421\n",
      "acc: 46.32%\n",
      "train (%) 0.45223488168273446 \t test(%): 0.3824561403508772\n",
      "acc: 38.25%\n",
      "train (%) 0.43908851884312006 \t test(%): 0.43508771929824563\n",
      "acc: 43.51%\n"
     ]
    }
   ],
   "source": [
    "n_splits=5\n",
    "#split sayısı doğruluğu değiştirmiyor.\n",
    "skf = StratifiedKFold(n_splits=n_splits,random_state=42,shuffle=True)\n",
    "cm=0\n",
    "precision=0\n",
    "recall=0\n",
    "f1=0\n",
    "cvscores = []\n",
    "\n",
    "for train_index, test_index in skf.split(trainX, trainy):\n",
    "   \n",
    "    print(f\"train (%) {np.sum(y[train_index])/len(train_index)} \\t test(%): {np.sum(y[test_index])/len(test_index)}\")\n",
    "    model.fit(X[train_index,:], y[train_index], \\\n",
    "                  validation_data=(X[test_index,:], \\\n",
    "                  y[test_index]), epochs=100,batch_size=32, verbose=0)\n",
    "    scores= model.evaluate(X[test_index],Y[test_index],verbose=0)\n",
    "    print(\"%s: %.2f%%\" % (model.metrics_names[1], scores[1]*100))\n",
    "    cvscores.append(scores[1] * 100)\n",
    "    pred=model.predict(X[test_index,:])\n",
    "    precision = precision+ precision_score(y[test_index], pred)\n",
    "    recall = recall+ recall_score(y[test_index], pred)\n",
    "    f1=f1+f1_score(y[test_index],pred)\n",
    "    cm =cm + confusion_matrix(y[test_index], pred)\n",
    "    pred = np.argmax(pred,axis=1)\n"
   ]
  },
  {
   "cell_type": "code",
   "execution_count": null,
   "metadata": {},
   "outputs": [],
   "source": [
    "# history=model.fit(trainX, trainy, \\\n",
    "#                    validation_data=(testX, \\\n",
    "#                    testy), epochs=100,batch_size=32)\n",
    "# plt.plot(history.history['acc'], label='accuracy')\n",
    "# plt.plot(history.history['val_acc'], label = 'val_accuracy')\n",
    "# plt.xlabel('Epoch')\n",
    "# plt.ylabel('Accuracy')\n",
    "# plt.ylim([0.5, 1])\n",
    "# plt.legend(loc='lower right')\n",
    "\n",
    "# test_loss, test_acc = model.evaluate(testX, testy, verbose=2)\n"
   ]
  },
  {
   "cell_type": "code",
   "execution_count": 32,
   "metadata": {},
   "outputs": [
    {
     "name": "stdout",
     "output_type": "stream",
     "text": [
      "Precision: 0.438\n",
      "Recall: 1.000\n",
      "F1 Score: 0.609\n",
      "Confusion matrix\n",
      "[[  0 801]\n",
      " [  0 625]]\n"
     ]
    },
    {
     "data": {
      "text/plain": [
       "<Figure size 432x288 with 0 Axes>"
      ]
     },
     "execution_count": 32,
     "metadata": {},
     "output_type": "execute_result"
    },
    {
     "data": {
      "text/plain": [
       "<Figure size 432x288 with 0 Axes>"
      ]
     },
     "metadata": {},
     "output_type": "display_data"
    }
   ],
   "source": [
    "\n",
    "precision=precision/n_splits\n",
    "print('Precision: %.3f' % precision)\n",
    "recall=recall/n_splits\n",
    "print('Recall: %.3f' % recall)\n",
    "f1=f1/n_splits\n",
    "print('F1 Score: %.3f' % f1)\n",
    "np.set_printoptions(precision=2)\n",
    "print('Confusion matrix')\n",
    "print(cm)\n",
    "plt.figure()\n",
    "# plot_confusion_matrix(cm, class_names)"
   ]
  },
  {
   "cell_type": "code",
   "execution_count": 20,
   "metadata": {},
   "outputs": [
    {
     "name": "stdout",
     "output_type": "stream",
     "text": [
      "Precision: 0.515\n",
      "Recall: 1.000\n",
      "F1 Score: 0.680\n",
      "Confusion matrix\n",
      "[[  0 173]\n",
      " [  0 184]]\n"
     ]
    },
    {
     "data": {
      "image/png": "[encoded data removed]",
      "text/plain": [
       "<Figure size 432x288 with 2 Axes>"
      ]
     },
     "metadata": {
      "needs_background": "light"
     },
     "output_type": "display_data"
    }
   ],
   "source": [
    "y_pred = model.predict(testX)\n",
    "precision = precision_score(testy, y_pred)\n",
    "print('Precision: %.3f' % precision)\n",
    "recall = recall_score(testy, y_pred)\n",
    "print('Recall: %.3f' % recall)\n",
    "f1=f1_score(testy,y_pred)\n",
    "print('F1 Score: %.3f' % f1)\n",
    "\n",
    "\n",
    "cm = confusion_matrix(testy, y_pred)\n",
    "\n",
    "print('Confusion matrix')\n",
    "print(cm)\n",
    "plt.figure()\n",
    "class_names = ['Healthy', 'Patient']\n",
    "plot_confusion_matrix(cm, class_names)"
   ]
  },
  {
   "cell_type": "code",
   "execution_count": null,
   "metadata": {},
   "outputs": [],
   "source": []
  }
 ],
 "metadata": {
  "kernelspec": {
   "display_name": "Python 3",
   "language": "python",
   "name": "python3"
  },
  "language_info": {
   "codemirror_mode": {
    "name": "ipython",
    "version": 3
   },
   "file_extension": ".py",
   "mimetype": "text/x-python",
   "name": "python",
   "nbconvert_exporter": "python",
   "pygments_lexer": "ipython3",
   "version": "3.9.7"
  }
 },
 "nbformat": 4,
 "nbformat_minor": 4
}
